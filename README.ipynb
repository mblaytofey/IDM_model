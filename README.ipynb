{
 "cells": [
  {
   "cell_type": "markdown",
   "metadata": {},
   "source": [
    "# IDM_model\n",
    "### Modeling for CDD and CRDM tasks\n",
    "\n",
    "The scripts located in [a relative link](src) directory, were written to first split the data into corresponding directories, then analyze CRDM and CDD usign the utility models. \n",
    "\n",
    "We have adapted the code to separately analyze the CRDM and CDD data, as long as the files are stored in the appropriate BIDS format.\n",
    "\n",
    "\n",
    "## Split the data\n",
    "\n",
    "\n",
    "\n"
   ]
  },
  {
   "cell_type": "code",
   "execution_count": null,
   "metadata": {},
   "outputs": [],
   "source": []
  }
 ],
 "metadata": {
  "language_info": {
   "name": "python"
  },
  "orig_nbformat": 4
 },
 "nbformat": 4,
 "nbformat_minor": 2
}
